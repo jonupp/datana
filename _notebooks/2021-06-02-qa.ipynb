{
 "cells": [
  {
   "cell_type": "markdown",
   "id": "specialized-crest",
   "metadata": {},
   "source": [
    "# Part 3"
   ]
  },
  {
   "cell_type": "markdown",
   "id": "neural-maldives",
   "metadata": {},
   "source": [
    "## Questions and Answers"
   ]
  },
  {
   "cell_type": "markdown",
   "id": "extreme-lightweight",
   "metadata": {},
   "source": [
    "I already checked my answers with [Article 1](https://codeburst.io/fast-ai-course-chapter-1-q-a-on-wsl2-22e0478e9f70) and [Article 2](https://codeburst.io/fastai-course-chapter-2-q-a-on-wsl2-32290be44822)"
   ]
  },
  {
   "cell_type": "markdown",
   "id": "musical-contents",
   "metadata": {},
   "source": [
    "## Lessons Learned"
   ]
  },
  {
   "cell_type": "markdown",
   "id": "other-rally",
   "metadata": {},
   "source": [
    "### Jupyter Notebook\n",
    "I did not know that it is possible to use Jupyter Notebooks to write a Blog. I also was suprised that Jupyther Notebooks are serialized as JSON.\n",
    "\n",
    "### Deep Learning\n",
    "I already knew that Deep Learning Models are blackboxes, but I didn't know that there is a variety of tools that make it possible to (more or less) comprehend how a Deep Learning Model came to a certain conclusion."
   ]
  }
 ],
 "metadata": {
  "kernelspec": {
   "display_name": "Python 3",
   "language": "python",
   "name": "python3"
  },
  "language_info": {
   "codemirror_mode": {
    "name": "ipython",
    "version": 3
   },
   "file_extension": ".py",
   "mimetype": "text/x-python",
   "name": "python",
   "nbconvert_exporter": "python",
   "pygments_lexer": "ipython3",
   "version": "3.7.8"
  }
 },
 "nbformat": 4,
 "nbformat_minor": 5
}
